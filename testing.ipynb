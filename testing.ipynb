{
 "cells": [
  {
   "cell_type": "code",
   "execution_count": 60,
   "metadata": {},
   "outputs": [],
   "source": [
    "import pandas as pd\n",
    "import pandas as pd\n",
    "from sklearn.model_selection import train_test_split, GridSearchCV\n",
    "from xgboost import XGBRegressor\n",
    "import pandas as pd\n",
    "import numpy as np\n",
    "\n",
    "from sklearn.model_selection import train_test_split, cross_val_score\n",
    "from sklearn.linear_model import LinearRegression, LogisticRegression\n",
    "from sklearn.svm import SVC\n",
    "from sklearn.model_selection import GridSearchCV\n",
    "from sklearn.impute import SimpleImputer, KNNImputer\n",
    "from sklearn.ensemble import RandomForestRegressor, RandomForestClassifier\n",
    "from sklearn.neighbors import KNeighborsClassifier\n",
    "from sklearn.tree import DecisionTreeClassifier\n",
    "from sklearn.preprocessing import LabelEncoder, OneHotEncoder\n",
    "from sklearn.feature_selection import RFE\n",
    "from sklearn.metrics import accuracy_score, confusion_matrix, classification_report, mean_squared_error, ConfusionMatrixDisplay\n",
    "\n",
    "import matplotlib.pyplot as plt\n",
    "import seaborn as sns\n",
    "import warnings\n",
    "from collections import Counter\n",
    "from xgboost import XGBClassifier as xgb\n",
    "\n",
    "df = pd.read_csv('covid_19_data.csv')"
   ]
  },
  {
   "cell_type": "markdown",
   "metadata": {},
   "source": [
    "### Encoding"
   ]
  },
  {
   "cell_type": "code",
   "execution_count": 61,
   "metadata": {},
   "outputs": [],
   "source": [
    "def one_hot_encode(data, columns):\n",
    "    \"\"\"One-hot encodes specified columns in the dataframe.\"\"\"\n",
    "    return pd.get_dummies(data, columns=columns)\n",
    "\n",
    "def label_encode(data, columns):\n",
    "    \"\"\"Label encodes specified columns in the dataframe using sklearn's LabelEncoder.\"\"\"\n",
    "    for col in columns:\n",
    "        le = LabelEncoder()\n",
    "        data[col] = le.fit_transform(data[col])\n",
    "    return data\n",
    "\n",
    "def frequency_encode(data, columns):\n",
    "    \"\"\"Frequency encodes specified columns in the dataframe.\"\"\"\n",
    "    for col in columns:\n",
    "        value_counts = Counter(data[col])\n",
    "        data[col] = data[col].map(lambda x: value_counts[x] / len(data))\n",
    "    return data\n",
    "\n",
    "def target_encode(data, target_column, columns):\n",
    "    \"\"\"Target encodes specified columns by replacing categories with the mean of the target variable.\"\"\"\n",
    "    for col in columns:\n",
    "        # Calculate mean of the target variable for each category\n",
    "        target_mean = data.groupby(col)[target_column].mean()\n",
    "        # Map the mean to the original categories in the column\n",
    "        data[col] = data[col].map(target_mean)\n",
    "    return data"
   ]
  },
  {
   "cell_type": "markdown",
   "metadata": {},
   "source": [
    "### Imputation"
   ]
  },
  {
   "cell_type": "code",
   "execution_count": 62,
   "metadata": {},
   "outputs": [],
   "source": [
    "# df['AL|ATFC|Year'].ffill(inplace=True)\n",
    "# df['AL|ATFC|Year'].bfill(inplace=True)\n",
    "\n",
    "def impute_mean(data, columns):\n",
    "    imputer = SimpleImputer(strategy=\"mean\")\n",
    "    data[columns] = imputer.fit_transform(data[columns])\n",
    "    return data\n",
    "\n",
    "def impute_median(data, columns):\n",
    "    imputer = SimpleImputer(strategy=\"median\")\n",
    "    data[columns] = imputer.fit_transform(data[columns])\n",
    "    return data\n",
    "\n",
    "def impute_mode(data, columns):\n",
    "    imputer = SimpleImputer(strategy=\"most_frequent\")\n",
    "    data[columns] = imputer.fit_transform(data[columns])\n",
    "    return data\n",
    "\n",
    "def impute_knn(data, columns, n_neighbors=5):\n",
    "    imputer = KNNImputer(n_neighbors=n_neighbors)\n",
    "    data[columns] = imputer.fit_transform(data[columns])\n",
    "    return data\n",
    "\n",
    "def impute_random_forest(data, columns):\n",
    "    imputer = RandomForestRegressor()\n",
    "    imputer.fit(data[columns[:-1]], data[columns[-1]])\n",
    "    data[columns] = imputer.predict(data[columns])\n",
    "    return data\n",
    "\n",
    "def impute_regression(data, columns):\n",
    "    for col in columns:\n",
    "        features = [c for c in data.columns if c != col]\n",
    "        model = LinearRegression()\n",
    "        model.fit(data[features], data[col])\n",
    "        data.loc[data[col].isnull(), col] = model.predict(data[features].loc[data[col].isnull()])\n",
    "    return data\n"
   ]
  },
  {
   "cell_type": "markdown",
   "metadata": {},
   "source": [
    "### Get Info"
   ]
  },
  {
   "cell_type": "code",
   "execution_count": 63,
   "metadata": {},
   "outputs": [
    {
     "name": "stdout",
     "output_type": "stream",
     "text": [
      "10671 rows, 8 columns, 170736 size (weighted)\n",
      "\n",
      "Pre-Transformation:\n",
      "\n",
      "SNo: int64, 0 null (0%), 10671 unique\n",
      "ObservationDate: object, 0 null (0%), 70 unique\n",
      "Province/State: object, 4956 null (46.44%), 293 unique\n",
      "Country/Region: object, 0 null (0%), 215 unique\n",
      "Last Update: object, 0 null (0%), 1814 unique\n",
      "Confirmed: float64, 0 null (0%), 1541 unique\n",
      "Deaths: float64, 0 null (0%), 330 unique\n",
      "Recovered: float64, 0 null (0%), 745 unique\n"
     ]
    }
   ],
   "source": [
    "column_names_list = df.columns.tolist()\n",
    "rows, cols = df.shape[0], df.shape[1]\n",
    "size = rows * (cols*2)\n",
    "properties = {}\n",
    "print(f'{rows} rows, {cols} columns, {size} size (weighted)\\n')\n",
    "\n",
    "print('Pre-Transformation:\\n')\n",
    "for column in column_names_list:\n",
    "\n",
    "    null_count = int(df[column].isna().sum())\n",
    "    nonnull_count = df[column].count()\n",
    "    if null_count > 0: null_percentage = round((null_count / rows) * 100, 2)\n",
    "    else: null_percentage = 0\n",
    "\n",
    "    unique = df[column].nunique()\n",
    "    type = df[column].dtype\n",
    "\n",
    "    properties[column] = {\n",
    "        'type': type,\n",
    "        'null_count': null_count,\n",
    "        'null_percentage': null_percentage,\n",
    "        'unique': unique\n",
    "    }\n",
    "\n",
    "    print(f'{column}: {type}, {null_count} null ({null_percentage}%), {unique} unique')\n"
   ]
  },
  {
   "cell_type": "markdown",
   "metadata": {},
   "source": [
    "### Prep for ML"
   ]
  },
  {
   "cell_type": "code",
   "execution_count": 64,
   "metadata": {},
   "outputs": [
    {
     "name": "stdout",
     "output_type": "stream",
     "text": [
      "Post-Transformation:\n",
      "\n",
      "Index(['SNo', 'ObservationDate', 'Province/State', 'Country/Region',\n",
      "       'Last Update', 'Confirmed', 'Deaths', 'Recovered'],\n",
      "      dtype='object')\n"
     ]
    }
   ],
   "source": [
    "new_df = df.copy()\n",
    "print('Post-Transformation:\\n')\n",
    "for column in column_names_list:\n",
    "    \n",
    "    # Drop columns with lots of missing values\n",
    "    if properties[column]['null_percentage'] > 50: new_df = df.drop(column, axis=1)\n",
    "\n",
    "    # Convert all numerical types to float\n",
    "    if properties[column]['type'] == 'int64': df[column].astype(float)\n",
    "\n",
    "    # Imputation\n",
    "    if properties[column]['null_count'] > 0:\n",
    "        if properties[column]['type'] == 'object': new_df = impute_mode(new_df, column)\n",
    "        else: new_df = impute_mean(new_df, column)\n",
    "    \n",
    "    # Encoding\n",
    "    if properties[column]['unique'] < 10: new_df = one_hot_encode(new_df, [column])\n",
    "\n",
    "print(new_df.columns)"
   ]
  }
 ],
 "metadata": {
  "kernelspec": {
   "display_name": "Python 3",
   "language": "python",
   "name": "python3"
  },
  "language_info": {
   "codemirror_mode": {
    "name": "ipython",
    "version": 3
   },
   "file_extension": ".py",
   "mimetype": "text/x-python",
   "name": "python",
   "nbconvert_exporter": "python",
   "pygments_lexer": "ipython3",
   "version": "3.9.6"
  }
 },
 "nbformat": 4,
 "nbformat_minor": 2
}

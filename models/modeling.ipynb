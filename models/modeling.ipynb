{
 "cells": [
  {
   "cell_type": "markdown",
   "metadata": {},
   "source": [
    "### Imports"
   ]
  },
  {
   "cell_type": "code",
   "execution_count": 37,
   "metadata": {},
   "outputs": [],
   "source": [
    "import pandas as pd\n",
    "from sklearn.model_selection import train_test_split\n",
    "from sklearn.impute import SimpleImputer, KNNImputer\n",
    "from sklearn.ensemble import RandomForestRegressor\n",
    "from sklearn.linear_model import LinearRegression\n",
    "from sklearn.preprocessing import LabelEncoder\n",
    "from collections import Counter\n",
    "import xgboost as xgb\n",
    "import regex as re\n",
    "from sklearn.model_selection import train_test_split\n",
    "from sklearn.metrics import mean_squared_error, accuracy_score\n",
    "from sklearn.metrics import mean_squared_error, mean_absolute_error, r2_score, accuracy_score, precision_score, recall_score, f1_score, confusion_matrix\n",
    "import pickle\n",
    "import os\n",
    "import joblib"
   ]
  },
  {
   "cell_type": "markdown",
   "metadata": {},
   "source": [
    "### Encoding"
   ]
  },
  {
   "cell_type": "code",
   "execution_count": 38,
   "metadata": {},
   "outputs": [],
   "source": [
    "# Encoding functions\n",
    "def one_hot_encode(data, columns):\n",
    "    \"\"\"One-hot encodes specified columns in the dataframe.\"\"\"\n",
    "    return pd.get_dummies(data, columns=columns, drop_first=True)\n",
    "\n",
    "def label_encode(data, columns):\n",
    "    \"\"\"Label encodes specified columns in the dataframe.\"\"\"\n",
    "    for col in columns:\n",
    "        le = LabelEncoder()\n",
    "        data[col] = le.fit_transform(data[col])\n",
    "    return data\n",
    "\n",
    "def frequency_encode(data, columns):\n",
    "    \"\"\"Frequency encodes specified columns in the dataframe.\"\"\"\n",
    "    for col in columns:\n",
    "        value_counts = Counter(data[col])\n",
    "        data[col] = data[col].map(lambda x: value_counts[x] / len(data))\n",
    "    return data\n",
    "\n",
    "def target_encode(data, target_column, columns):\n",
    "    \"\"\"Target encodes specified columns by replacing categories with the mean of the target variable.\"\"\"\n",
    "    for col in columns:\n",
    "        target_mean = data.groupby(col)[target_column].mean()\n",
    "        data[col] = data[col].map(target_mean)\n",
    "    return data"
   ]
  },
  {
   "cell_type": "markdown",
   "metadata": {},
   "source": [
    "### Imputation"
   ]
  },
  {
   "cell_type": "code",
   "execution_count": 39,
   "metadata": {},
   "outputs": [],
   "source": [
    "# Imputation functions\n",
    "def impute_mean(data, column):\n",
    "    data[column].fillna(data[column].mean(), inplace=True)\n",
    "    return data\n",
    "\n",
    "def impute_median(data, columns):\n",
    "    imputer = SimpleImputer(strategy=\"median\")\n",
    "    data[columns] = imputer.fit_transform(data[columns])\n",
    "    return data\n",
    "\n",
    "def impute_mode(data, column):\n",
    "    data[column].fillna(data[column].mode()[0], inplace=True)\n",
    "    return data\n",
    "\n",
    "def impute_knn(data, columns, n_neighbors=5):\n",
    "    imputer = KNNImputer(n_neighbors=n_neighbors)\n",
    "    data[columns] = imputer.fit_transform(data[columns])\n",
    "    return data\n",
    "\n",
    "def impute_random_forest(data, features, target_column):\n",
    "    imputer = RandomForestRegressor()\n",
    "    known_data = data.dropna(subset=[target_column])\n",
    "    imputer.fit(known_data[features], known_data[target_column])\n",
    "    missing_idx = data[target_column].isnull()\n",
    "    data.loc[missing_idx, target_column] = imputer.predict(data.loc[missing_idx, features])\n",
    "    return data\n",
    "\n",
    "def impute_regression(data, columns):\n",
    "    for col in columns:\n",
    "        features = [c for c in data.columns if c != col]\n",
    "        model = LinearRegression()\n",
    "        model.fit(data[features], data[col])\n",
    "        data.loc[data[col].isnull(), col] = model.predict(data[features].loc[data[col].isnull()])\n",
    "    return data"
   ]
  },
  {
   "cell_type": "markdown",
   "metadata": {},
   "source": [
    "### Evaluation"
   ]
  },
  {
   "cell_type": "code",
   "execution_count": 40,
   "metadata": {},
   "outputs": [],
   "source": [
    "# Regression evaluation metrics\n",
    "def evaluate_regression(y_true, y_pred):\n",
    "    mse = mean_squared_error(y_true, y_pred)\n",
    "    mae = mean_absolute_error(y_true, y_pred)\n",
    "    r2 = r2_score(y_true, y_pred)\n",
    "    print(f'Mean Squared Error: {mse}')\n",
    "    print(f'Mean Absolute Error: {mae}')\n",
    "    print(f'R^2 Score: {r2}')\n",
    "    return {'mse': mse, 'mae': mae, 'r2': r2}\n",
    "\n",
    "# Classification evaluation metrics\n",
    "def evaluate_classification(y_true, y_pred):\n",
    "    accuracy = accuracy_score(y_true, y_pred)\n",
    "    precision = precision_score(y_true, y_pred, average='weighted')\n",
    "    recall = recall_score(y_true, y_pred, average='weighted')\n",
    "    f1 = f1_score(y_true, y_pred, average='weighted')\n",
    "    cm = confusion_matrix(y_true, y_pred)\n",
    "    print(f'Accuracy: {accuracy}')\n",
    "    print(f'Precision: {precision}')\n",
    "    print(f'Recall: {recall}')\n",
    "    print(f'F1 Score: {f1}')\n",
    "    print(f'Confusion Matrix:\\n{cm}')\n",
    "    return {'accuracy': accuracy, 'precision': precision, 'recall': recall, 'f1': f1, 'confusion_matrix': cm}"
   ]
  },
  {
   "cell_type": "markdown",
   "metadata": {},
   "source": [
    "### Settings"
   ]
  },
  {
   "cell_type": "code",
   "execution_count": 41,
   "metadata": {},
   "outputs": [],
   "source": [
    "df = pd.read_csv('usedcarprices.csv')\n",
    "filename = os.path.splitext(os.path.basename('usedcarprices.csv'))[0]\n",
    "target_column = 'price'\n",
    "problem_type = 'regression'.lower()"
   ]
  },
  {
   "cell_type": "markdown",
   "metadata": {},
   "source": [
    "### Get Info"
   ]
  },
  {
   "cell_type": "code",
   "execution_count": 42,
   "metadata": {},
   "outputs": [
    {
     "name": "stdout",
     "output_type": "stream",
     "text": [
      "188533 rows, 13 columns\n",
      "\n",
      "id: int64, 0 null (0%), 188533 unique\n",
      "brand: object, 0 null (0%), 57 unique\n",
      "model: object, 0 null (0%), 1897 unique\n",
      "model_year: int64, 0 null (0%), 34 unique\n",
      "milage: int64, 0 null (0%), 6651 unique\n",
      "fuel_type: object, 5083 null (2.7%), 7 unique\n",
      "engine: object, 0 null (0%), 1117 unique\n",
      "transmission: object, 0 null (0%), 52 unique\n",
      "ext_col: object, 0 null (0%), 319 unique\n",
      "int_col: object, 0 null (0%), 156 unique\n",
      "accident: object, 2452 null (1.3%), 2 unique\n",
      "clean_title: object, 21419 null (11.36%), 1 unique\n",
      "price: int64, 0 null (0%), 1569 unique\n"
     ]
    }
   ],
   "source": [
    "def dataset_summary(data):\n",
    "    rows, cols = data.shape\n",
    "    properties = {}\n",
    "    print(f'{rows} rows, {cols} columns\\n')\n",
    "\n",
    "    for column in data.columns:\n",
    "        null_count = int(data[column].isna().sum())\n",
    "        null_percentage = round((null_count / rows) * 100, 2) if null_count > 0 else 0\n",
    "        unique = data[column].nunique()\n",
    "        dtype = data[column].dtype\n",
    "\n",
    "        properties[column] = {\n",
    "            'type': dtype,\n",
    "            'null_count': null_count,\n",
    "            'null_percentage': null_percentage,\n",
    "            'unique': unique\n",
    "        }\n",
    "        print(f'{column}: {dtype}, {null_count} null ({null_percentage}%), {unique} unique')\n",
    "\n",
    "    return properties\n",
    "\n",
    "summary = dataset_summary(df)"
   ]
  },
  {
   "cell_type": "markdown",
   "metadata": {},
   "source": [
    "### Transform"
   ]
  },
  {
   "cell_type": "code",
   "execution_count": 43,
   "metadata": {},
   "outputs": [
    {
     "name": "stdout",
     "output_type": "stream",
     "text": [
      "188533 rows, 13 columns\n",
      "\n",
      "id: int64, 0 null (0%), 188533 unique\n",
      "brand: object, 0 null (0%), 57 unique\n",
      "model: object, 0 null (0%), 1897 unique\n",
      "model_year: int64, 0 null (0%), 34 unique\n",
      "milage: int64, 0 null (0%), 6651 unique\n",
      "fuel_type: object, 5083 null (2.7%), 7 unique\n",
      "engine: object, 0 null (0%), 1117 unique\n",
      "transmission: object, 0 null (0%), 52 unique\n",
      "ext_col: object, 0 null (0%), 319 unique\n",
      "int_col: object, 0 null (0%), 156 unique\n",
      "accident: object, 2452 null (1.3%), 2 unique\n",
      "clean_title: object, 21419 null (11.36%), 1 unique\n",
      "price: int64, 0 null (0%), 1569 unique\n",
      "Converted id from int64 to float64\n",
      "Target encoded brand\n",
      "Target encoded model\n",
      "Converted model_year from int64 to float64\n",
      "Converted milage from int64 to float64\n",
      "Imputed fuel_type with mode\n",
      "One-hot encoded fuel_type\n",
      "Target encoded engine\n",
      "Target encoded transmission\n",
      "Target encoded ext_col\n",
      "Target encoded int_col\n",
      "Imputed accident with mode\n",
      "One-hot encoded accident\n",
      "Imputed clean_title with mode\n",
      "One-hot encoded clean_title\n",
      "Label encoded target column price\n",
      "188533 rows, 17 columns\n",
      "\n",
      "id: float64, 0 null (0%), 188533 unique\n",
      "brand: float64, 0 null (0%), 57 unique\n",
      "model: float64, 0 null (0%), 1896 unique\n",
      "model_year: float64, 0 null (0%), 34 unique\n",
      "milage: float64, 0 null (0%), 6651 unique\n",
      "engine: float64, 0 null (0%), 1117 unique\n",
      "transmission: float64, 0 null (0%), 52 unique\n",
      "ext_col: float64, 0 null (0%), 319 unique\n",
      "int_col: float64, 0 null (0%), 156 unique\n",
      "price: int64, 0 null (0%), 1569 unique\n",
      "fuel_type_E85 Flex Fuel: uint8, 0 null (0%), 2 unique\n",
      "fuel_type_Gasoline: uint8, 0 null (0%), 2 unique\n",
      "fuel_type_Hybrid: uint8, 0 null (0%), 2 unique\n",
      "fuel_type_Plug-In Hybrid: uint8, 0 null (0%), 2 unique\n",
      "fuel_type_not supported: uint8, 0 null (0%), 2 unique\n",
      "fuel_type_–: uint8, 0 null (0%), 2 unique\n",
      "accident_None reported: uint8, 0 null (0%), 2 unique\n"
     ]
    }
   ],
   "source": [
    "# Transformation function\n",
    "def transform(data, target_column=None):\n",
    "    properties = dataset_summary(data)\n",
    "    new_df = data.copy()\n",
    "\n",
    "    for column, prop in properties.items():\n",
    "        # Skip the target column\n",
    "        if column == target_column:\n",
    "            le = LabelEncoder()\n",
    "            new_df[column] = le.fit_transform(new_df[column])\n",
    "            print(f'Label encoded target column {column}')\n",
    "            continue\n",
    "\n",
    "        # Drop columns with high null percentage\n",
    "        if prop['null_percentage'] > 50:\n",
    "            new_df.drop(column, axis=1, inplace=True)\n",
    "            print(f'Dropped {column} due to high null percentage')\n",
    "            continue\n",
    "\n",
    "        # Convert numerical types to float\n",
    "        if prop['type'] == 'int64':\n",
    "            new_df[column] = new_df[column].astype(float)\n",
    "            print(f'Converted {column} from int64 to float64')\n",
    "\n",
    "        # Imputation\n",
    "        if prop['null_count'] > 0:\n",
    "            if prop['type'] == 'object':\n",
    "                new_df = impute_mode(new_df, column)\n",
    "                print(f'Imputed {column} with mode')\n",
    "            else:\n",
    "                new_df = impute_mean(new_df, column)\n",
    "                print(f'Imputed {column} with mean')\n",
    "\n",
    "        # Encoding\n",
    "        if new_df[column].dtype == 'object':\n",
    "            unique_count = prop['unique']\n",
    "            if unique_count < 10:\n",
    "                new_df = one_hot_encode(new_df, [column])\n",
    "                print(f'One-hot encoded {column}')\n",
    "            elif 10 <= unique_count <= 50:\n",
    "                new_df = frequency_encode(new_df, [column])\n",
    "                print(f'Frequency encoded {column}')\n",
    "            elif target_column and target_column in new_df.columns:\n",
    "                new_df = target_encode(new_df, target_column, [column])\n",
    "                print(f'Target encoded {column}')\n",
    "            else:\n",
    "                new_df = frequency_encode(new_df, [column])\n",
    "                print(f'Frequency encoded {column}')\n",
    "\n",
    "    return new_df\n",
    "\n",
    "new_df = transform(df, target_column)\n",
    "summary = dataset_summary(new_df)"
   ]
  },
  {
   "cell_type": "markdown",
   "metadata": {},
   "source": [
    "### Modeling"
   ]
  },
  {
   "cell_type": "code",
   "execution_count": 44,
   "metadata": {},
   "outputs": [
    {
     "name": "stdout",
     "output_type": "stream",
     "text": [
      "Regression model evaluation: \n",
      "\n",
      "Mean Squared Error: 59634.12763038693\n",
      "Mean Absolute Error: 179.23544487760898\n",
      "R^2 Score: 0.6676733277726907\n",
      "{'mse': 59634.12763038693, 'mae': 179.23544487760898, 'r2': 0.6676733277726907}\n"
     ]
    }
   ],
   "source": [
    "def regression_model(data, target_column):\n",
    "    X = data.drop(columns=[target_column])\n",
    "    y = data[target_column]\n",
    "    X_train, X_test, y_train, y_test = train_test_split(X, y, test_size=0.2, random_state=42)\n",
    "\n",
    "    model = RandomForestRegressor(random_state=42)\n",
    "    model.fit(X_train, y_train)\n",
    "    y_pred = model.predict(X_test)\n",
    "\n",
    "    metrics = evaluate_regression(y_test, y_pred)\n",
    "    return metrics, model\n",
    "\n",
    "def classification_model(data, target_column):\n",
    "    X = data.drop(columns=[target_column])\n",
    "    y = data[target_column]\n",
    "    X_train, X_test, y_train, y_test = train_test_split(X, y, test_size=0.2, random_state=42)\n",
    "\n",
    "    model = xgb.XGBClassifier(eval_metric='logloss', random_state=42)\n",
    "    model.fit(X_train, y_train)\n",
    "    y_pred = model.predict(X_test)\n",
    "\n",
    "    metrics = evaluate_classification(y_test, y_pred)\n",
    "    return metrics, model\n",
    "\n",
    "# Example usage:\n",
    "if problem_type == 'regression':\n",
    "    print('Regression model evaluation: \\n')\n",
    "    metrics, model = regression_model(new_df, target_column)\n",
    "    print(metrics)\n",
    "elif problem_type == 'classification':\n",
    "    print('Classification model evaluation: \\n')\n",
    "    metrics, model = classification_model(new_df, target_column)\n",
    "    print(metrics)\n",
    "elif problem_type == 'timeseries':\n",
    "    pass"
   ]
  },
  {
   "cell_type": "code",
   "execution_count": 47,
   "metadata": {},
   "outputs": [
    {
     "name": "stdout",
     "output_type": "stream",
     "text": [
      "Model saved as usedcarprices model.pkl\n",
      "Model saved as usedcarprices model.joblib\n"
     ]
    }
   ],
   "source": [
    "# Method 1: Exporting as a pickle file\n",
    "with open(f'{filename} model.pkl', 'wb') as file:\n",
    "    pickle.dump(model, file)\n",
    "print(f\"Model saved as {filename} model.pkl\")\n",
    "\n",
    "# Method 2: Exporting as a joblib file\n",
    "joblib.dump(model, f'{filename} model.joblib')\n",
    "print(f\"Model saved as {filename} model.joblib\")"
   ]
  },
  {
   "cell_type": "code",
   "execution_count": 48,
   "metadata": {},
   "outputs": [
    {
     "name": "stdout",
     "output_type": "stream",
     "text": [
      "125690 rows, 12 columns\n",
      "\n",
      "id: int64, 0 null (0%), 125690 unique\n",
      "brand: object, 0 null (0%), 55 unique\n",
      "model: object, 0 null (0%), 1891 unique\n",
      "model_year: int64, 0 null (0%), 36 unique\n",
      "milage: int64, 0 null (0%), 5700 unique\n",
      "fuel_type: object, 3383 null (2.69%), 7 unique\n",
      "engine: object, 0 null (0%), 1117 unique\n",
      "transmission: object, 0 null (0%), 52 unique\n",
      "ext_col: object, 0 null (0%), 317 unique\n",
      "int_col: object, 0 null (0%), 156 unique\n",
      "accident: object, 1632 null (1.3%), 2 unique\n",
      "clean_title: object, 14239 null (11.33%), 1 unique\n",
      "Converted id from int64 to float64\n",
      "Frequency encoded brand\n",
      "Frequency encoded model\n",
      "Converted model_year from int64 to float64\n",
      "Converted milage from int64 to float64\n",
      "Imputed fuel_type with mode\n",
      "One-hot encoded fuel_type\n",
      "Frequency encoded engine\n",
      "Frequency encoded transmission\n",
      "Frequency encoded ext_col\n",
      "Frequency encoded int_col\n",
      "Imputed accident with mode\n",
      "One-hot encoded accident\n",
      "Imputed clean_title with mode\n",
      "One-hot encoded clean_title\n",
      "Predictions saved to predictions.csv\n"
     ]
    }
   ],
   "source": [
    "# Load the test data\n",
    "test_df = pd.read_csv('test.csv')\n",
    "\n",
    "# Preprocess the test data\n",
    "test_df_transformed = transform(test_df)\n",
    "\n",
    "# Make predictions\n",
    "predictions = model.predict(test_df_transformed)\n",
    "\n",
    "# Create a DataFrame with the predictions\n",
    "predictions_df = pd.DataFrame({'id': test_df['id'], 'Depression': predictions})\n",
    "\n",
    "# Save the predictions to a CSV file\n",
    "predictions_df.to_csv('predictions.csv', index=False)\n",
    "print(\"Predictions saved to predictions.csv\")"
   ]
  }
 ],
 "metadata": {
  "kernelspec": {
   "display_name": "Python 3",
   "language": "python",
   "name": "python3"
  },
  "language_info": {
   "codemirror_mode": {
    "name": "ipython",
    "version": 3
   },
   "file_extension": ".py",
   "mimetype": "text/x-python",
   "name": "python",
   "nbconvert_exporter": "python",
   "pygments_lexer": "ipython3",
   "version": "3.9.6"
  }
 },
 "nbformat": 4,
 "nbformat_minor": 2
}
